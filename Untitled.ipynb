{
 "cells": [
  {
   "cell_type": "code",
   "execution_count": 2,
   "id": "81983453",
   "metadata": {},
   "outputs": [
    {
     "name": "stderr",
     "output_type": "stream",
     "text": [
      "BokehDeprecationWarning: 'legend' keyword is deprecated, use explicit 'legend_label', 'legend_field', or 'legend_group' keywords instead\n"
     ]
    }
   ],
   "source": [
    "from bokeh.plotting import show, figure\n",
    "from bokeh.models import ColumnDataSource, HoverTool\n",
    "from bokeh.models.tools import CustomJSHover\n",
    "\n",
    "\n",
    "df = {'X_value': [[1, 2, 3, 4], [1, 2, 3, 4], [1, 2, 3, 4], [1, 2, 3, 4]], \n",
    "      'model': ['m1', 'm1', 'm2', 'm2'], \n",
    "      'color': ['red', 'red', 'blue', 'blue'],\n",
    "      'Y_value': [[0.50, 0.66, 0.70, 0.67], [0.65, 0.68, 0.71, 0.66], [0.80, 0.79, 0.84, 0.80], [0.80, 0.83, 0.76, 0.64]]}\n",
    "\n",
    "source = ColumnDataSource(df)\n",
    "\n",
    "p = figure(plot_height=400)\n",
    "p.multi_line(xs='X_value', ys='Y_value', legend=\"model\", color='color',\n",
    "             line_width=5, line_alpha=0.6, hover_line_alpha=1.0,\n",
    "             source=source)\n",
    "\n",
    "x_custom = CustomJSHover(code=\"\"\"\n",
    "    return '' + special_vars.data_x\n",
    "\"\"\")\n",
    "\n",
    "y_custom = CustomJSHover(code=\"\"\"\n",
    "    return '' + special_vars.data_y\n",
    "\"\"\")\n",
    "\n",
    "p.add_tools(\n",
    "    HoverTool(\n",
    "        show_arrow=False, \n",
    "        line_policy='next',\n",
    "        tooltips=[\n",
    "            ('X_value', '@X_value{custom}'),  # or just ('X_value', '$data_x')\n",
    "            ('Y_value', '@Y_value{custom}')\n",
    "        ],\n",
    "        formatters=dict(\n",
    "            X_value=x_custom,\n",
    "            Y_value=y_custom\n",
    "        )\n",
    "    )\n",
    ")\n",
    "\n",
    "show(p)"
   ]
  },
  {
   "cell_type": "code",
   "execution_count": null,
   "id": "8e5d6005",
   "metadata": {},
   "outputs": [],
   "source": []
  }
 ],
 "metadata": {
  "anaconda-cloud": {},
  "kernelspec": {
   "display_name": "Python 3 (ipykernel)",
   "language": "python",
   "name": "python3"
  },
  "language_info": {
   "codemirror_mode": {
    "name": "ipython",
    "version": 3
   },
   "file_extension": ".py",
   "mimetype": "text/x-python",
   "name": "python",
   "nbconvert_exporter": "python",
   "pygments_lexer": "ipython3",
   "version": "3.9.7"
  }
 },
 "nbformat": 4,
 "nbformat_minor": 5
}
